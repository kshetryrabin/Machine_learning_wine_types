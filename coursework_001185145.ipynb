{
  "nbformat": 4,
  "nbformat_minor": 0,
  "metadata": {
    "colab": {
      "name": "coursework_001185145.ipynb",
      "provenance": [],
      "collapsed_sections": []
    },
    "kernelspec": {
      "name": "python3",
      "display_name": "Python 3"
    },
    "language_info": {
      "name": "python"
    }
  },
  "cells": [
    {
      "cell_type": "code",
      "execution_count": 2,
      "metadata": {
        "id": "YCxAoZkhOXMI"
      },
      "outputs": [],
      "source": [
        "# Import NumPy, which can deal with multi-dimensional arrays such as matrix intuitively.\n",
        "import numpy as np\n",
        "import scipy\n",
        "import pandas as pd\n",
        "import matplotlib.pyplot as plt\n",
        "import seaborn as sns; sns.set()  # for plot styling\n",
        "import sklearn.linear_model, sklearn.datasets"
      ]
    },
    {
      "cell_type": "code",
      "source": [
        "# Load the wine dataset\n",
        "dataset = sklearn.datasets.load_wine()\n",
        "dataframe_X = pd.DataFrame(data=dataset['data'], columns=dataset['feature_names'])\n",
        "dataframe_y = pd.DataFrame(data=1 - (dataset['target']), columns=['target'])\n",
        "dataframe_raw = pd.concat([dataframe_X, dataframe_y], axis=1)\n",
        "# Shuffle dataset\n",
        "rng = np.random.default_rng(0)\n",
        "Xy_df = dataframe_raw.iloc[rng.permutation(len(dataframe_raw))].reset_index(drop=True)\n",
        "\n",
        "display(Xy_df)\n",
        "dataframe_raw.info()"
      ],
      "metadata": {
        "colab": {
          "base_uri": "https://localhost:8080/",
          "height": 808
        },
        "id": "5XS2_4s_YlwR",
        "outputId": "c5b432fb-6426-4a08-e425-63deb768e664"
      },
      "execution_count": 3,
      "outputs": [
        {
          "output_type": "display_data",
          "data": {
            "text/html": [
              "<div>\n",
              "<style scoped>\n",
              "    .dataframe tbody tr th:only-of-type {\n",
              "        vertical-align: middle;\n",
              "    }\n",
              "\n",
              "    .dataframe tbody tr th {\n",
              "        vertical-align: top;\n",
              "    }\n",
              "\n",
              "    .dataframe thead th {\n",
              "        text-align: right;\n",
              "    }\n",
              "</style>\n",
              "<table border=\"1\" class=\"dataframe\">\n",
              "  <thead>\n",
              "    <tr style=\"text-align: right;\">\n",
              "      <th></th>\n",
              "      <th>alcohol</th>\n",
              "      <th>malic_acid</th>\n",
              "      <th>ash</th>\n",
              "      <th>alcalinity_of_ash</th>\n",
              "      <th>magnesium</th>\n",
              "      <th>total_phenols</th>\n",
              "      <th>flavanoids</th>\n",
              "      <th>nonflavanoid_phenols</th>\n",
              "      <th>proanthocyanins</th>\n",
              "      <th>color_intensity</th>\n",
              "      <th>hue</th>\n",
              "      <th>od280/od315_of_diluted_wines</th>\n",
              "      <th>proline</th>\n",
              "      <th>target</th>\n",
              "    </tr>\n",
              "  </thead>\n",
              "  <tbody>\n",
              "    <tr>\n",
              "      <th>0</th>\n",
              "      <td>12.77</td>\n",
              "      <td>2.39</td>\n",
              "      <td>2.28</td>\n",
              "      <td>19.5</td>\n",
              "      <td>86.0</td>\n",
              "      <td>1.39</td>\n",
              "      <td>0.51</td>\n",
              "      <td>0.48</td>\n",
              "      <td>0.64</td>\n",
              "      <td>9.899999</td>\n",
              "      <td>0.57</td>\n",
              "      <td>1.63</td>\n",
              "      <td>470.0</td>\n",
              "      <td>-1</td>\n",
              "    </tr>\n",
              "    <tr>\n",
              "      <th>1</th>\n",
              "      <td>11.84</td>\n",
              "      <td>0.89</td>\n",
              "      <td>2.58</td>\n",
              "      <td>18.0</td>\n",
              "      <td>94.0</td>\n",
              "      <td>2.20</td>\n",
              "      <td>2.21</td>\n",
              "      <td>0.22</td>\n",
              "      <td>2.35</td>\n",
              "      <td>3.050000</td>\n",
              "      <td>0.79</td>\n",
              "      <td>3.08</td>\n",
              "      <td>520.0</td>\n",
              "      <td>0</td>\n",
              "    </tr>\n",
              "    <tr>\n",
              "      <th>2</th>\n",
              "      <td>13.50</td>\n",
              "      <td>3.12</td>\n",
              "      <td>2.62</td>\n",
              "      <td>24.0</td>\n",
              "      <td>123.0</td>\n",
              "      <td>1.40</td>\n",
              "      <td>1.57</td>\n",
              "      <td>0.22</td>\n",
              "      <td>1.25</td>\n",
              "      <td>8.600000</td>\n",
              "      <td>0.59</td>\n",
              "      <td>1.30</td>\n",
              "      <td>500.0</td>\n",
              "      <td>-1</td>\n",
              "    </tr>\n",
              "    <tr>\n",
              "      <th>3</th>\n",
              "      <td>12.69</td>\n",
              "      <td>1.53</td>\n",
              "      <td>2.26</td>\n",
              "      <td>20.7</td>\n",
              "      <td>80.0</td>\n",
              "      <td>1.38</td>\n",
              "      <td>1.46</td>\n",
              "      <td>0.58</td>\n",
              "      <td>1.62</td>\n",
              "      <td>3.050000</td>\n",
              "      <td>0.96</td>\n",
              "      <td>2.06</td>\n",
              "      <td>495.0</td>\n",
              "      <td>0</td>\n",
              "    </tr>\n",
              "    <tr>\n",
              "      <th>4</th>\n",
              "      <td>12.29</td>\n",
              "      <td>3.17</td>\n",
              "      <td>2.21</td>\n",
              "      <td>18.0</td>\n",
              "      <td>88.0</td>\n",
              "      <td>2.85</td>\n",
              "      <td>2.99</td>\n",
              "      <td>0.45</td>\n",
              "      <td>2.81</td>\n",
              "      <td>2.300000</td>\n",
              "      <td>1.42</td>\n",
              "      <td>2.83</td>\n",
              "      <td>406.0</td>\n",
              "      <td>0</td>\n",
              "    </tr>\n",
              "    <tr>\n",
              "      <th>...</th>\n",
              "      <td>...</td>\n",
              "      <td>...</td>\n",
              "      <td>...</td>\n",
              "      <td>...</td>\n",
              "      <td>...</td>\n",
              "      <td>...</td>\n",
              "      <td>...</td>\n",
              "      <td>...</td>\n",
              "      <td>...</td>\n",
              "      <td>...</td>\n",
              "      <td>...</td>\n",
              "      <td>...</td>\n",
              "      <td>...</td>\n",
              "      <td>...</td>\n",
              "    </tr>\n",
              "    <tr>\n",
              "      <th>173</th>\n",
              "      <td>12.37</td>\n",
              "      <td>0.94</td>\n",
              "      <td>1.36</td>\n",
              "      <td>10.6</td>\n",
              "      <td>88.0</td>\n",
              "      <td>1.98</td>\n",
              "      <td>0.57</td>\n",
              "      <td>0.28</td>\n",
              "      <td>0.42</td>\n",
              "      <td>1.950000</td>\n",
              "      <td>1.05</td>\n",
              "      <td>1.82</td>\n",
              "      <td>520.0</td>\n",
              "      <td>0</td>\n",
              "    </tr>\n",
              "    <tr>\n",
              "      <th>174</th>\n",
              "      <td>14.02</td>\n",
              "      <td>1.68</td>\n",
              "      <td>2.21</td>\n",
              "      <td>16.0</td>\n",
              "      <td>96.0</td>\n",
              "      <td>2.65</td>\n",
              "      <td>2.33</td>\n",
              "      <td>0.26</td>\n",
              "      <td>1.98</td>\n",
              "      <td>4.700000</td>\n",
              "      <td>1.04</td>\n",
              "      <td>3.59</td>\n",
              "      <td>1035.0</td>\n",
              "      <td>1</td>\n",
              "    </tr>\n",
              "    <tr>\n",
              "      <th>175</th>\n",
              "      <td>13.40</td>\n",
              "      <td>4.60</td>\n",
              "      <td>2.86</td>\n",
              "      <td>25.0</td>\n",
              "      <td>112.0</td>\n",
              "      <td>1.98</td>\n",
              "      <td>0.96</td>\n",
              "      <td>0.27</td>\n",
              "      <td>1.11</td>\n",
              "      <td>8.500000</td>\n",
              "      <td>0.67</td>\n",
              "      <td>1.92</td>\n",
              "      <td>630.0</td>\n",
              "      <td>-1</td>\n",
              "    </tr>\n",
              "    <tr>\n",
              "      <th>176</th>\n",
              "      <td>13.76</td>\n",
              "      <td>1.53</td>\n",
              "      <td>2.70</td>\n",
              "      <td>19.5</td>\n",
              "      <td>132.0</td>\n",
              "      <td>2.95</td>\n",
              "      <td>2.74</td>\n",
              "      <td>0.50</td>\n",
              "      <td>1.35</td>\n",
              "      <td>5.400000</td>\n",
              "      <td>1.25</td>\n",
              "      <td>3.00</td>\n",
              "      <td>1235.0</td>\n",
              "      <td>1</td>\n",
              "    </tr>\n",
              "    <tr>\n",
              "      <th>177</th>\n",
              "      <td>12.47</td>\n",
              "      <td>1.52</td>\n",
              "      <td>2.20</td>\n",
              "      <td>19.0</td>\n",
              "      <td>162.0</td>\n",
              "      <td>2.50</td>\n",
              "      <td>2.27</td>\n",
              "      <td>0.32</td>\n",
              "      <td>3.28</td>\n",
              "      <td>2.600000</td>\n",
              "      <td>1.16</td>\n",
              "      <td>2.63</td>\n",
              "      <td>937.0</td>\n",
              "      <td>0</td>\n",
              "    </tr>\n",
              "  </tbody>\n",
              "</table>\n",
              "<p>178 rows × 14 columns</p>\n",
              "</div>"
            ],
            "text/plain": [
              "     alcohol  malic_acid   ash  ...  od280/od315_of_diluted_wines  proline  target\n",
              "0      12.77        2.39  2.28  ...                          1.63    470.0      -1\n",
              "1      11.84        0.89  2.58  ...                          3.08    520.0       0\n",
              "2      13.50        3.12  2.62  ...                          1.30    500.0      -1\n",
              "3      12.69        1.53  2.26  ...                          2.06    495.0       0\n",
              "4      12.29        3.17  2.21  ...                          2.83    406.0       0\n",
              "..       ...         ...   ...  ...                           ...      ...     ...\n",
              "173    12.37        0.94  1.36  ...                          1.82    520.0       0\n",
              "174    14.02        1.68  2.21  ...                          3.59   1035.0       1\n",
              "175    13.40        4.60  2.86  ...                          1.92    630.0      -1\n",
              "176    13.76        1.53  2.70  ...                          3.00   1235.0       1\n",
              "177    12.47        1.52  2.20  ...                          2.63    937.0       0\n",
              "\n",
              "[178 rows x 14 columns]"
            ]
          },
          "metadata": {}
        },
        {
          "output_type": "stream",
          "name": "stdout",
          "text": [
            "<class 'pandas.core.frame.DataFrame'>\n",
            "RangeIndex: 178 entries, 0 to 177\n",
            "Data columns (total 14 columns):\n",
            " #   Column                        Non-Null Count  Dtype  \n",
            "---  ------                        --------------  -----  \n",
            " 0   alcohol                       178 non-null    float64\n",
            " 1   malic_acid                    178 non-null    float64\n",
            " 2   ash                           178 non-null    float64\n",
            " 3   alcalinity_of_ash             178 non-null    float64\n",
            " 4   magnesium                     178 non-null    float64\n",
            " 5   total_phenols                 178 non-null    float64\n",
            " 6   flavanoids                    178 non-null    float64\n",
            " 7   nonflavanoid_phenols          178 non-null    float64\n",
            " 8   proanthocyanins               178 non-null    float64\n",
            " 9   color_intensity               178 non-null    float64\n",
            " 10  hue                           178 non-null    float64\n",
            " 11  od280/od315_of_diluted_wines  178 non-null    float64\n",
            " 12  proline                       178 non-null    float64\n",
            " 13  target                        178 non-null    int64  \n",
            "dtypes: float64(13), int64(1)\n",
            "memory usage: 19.6 KB\n"
          ]
        }
      ]
    },
    {
      "cell_type": "code",
      "source": [
        "# prepare NumPy ndarrays\n",
        "X = np.array(Xy_df[dataset['feature_names'][0:2]]) # we only use the first two columns\n",
        "y = np.array(Xy_df['target'])\n",
        "\n",
        "training_points = 100\n",
        "testing_points = 78\n",
        "\n",
        "# Split the data into training/new data\n",
        "X_training = X[:training_points]\n",
        "X_testing = X[training_points:training_points+testing_points]\n",
        "\n",
        "# Split the targets into training/new data\n",
        "y_training = y[:training_points]\n",
        "y_true = y[training_points:training_points+testing_points]"
      ],
      "metadata": {
        "id": "oQeT6xYbbX8H"
      },
      "execution_count": 7,
      "outputs": []
    },
    {
      "cell_type": "code",
      "source": [
        "# Create linear regression object\n",
        "obj = sklearn.linear_model.LogisticRegression()\n",
        "\n",
        "# Train the model using the training sets\n",
        "obj.fit(X_training, y_training)\n",
        "\n",
        "# Make predictions using the testing set\n",
        "y_pred = obj.predict(X_testing)\n",
        "\n",
        "# The parameters\n",
        "theta = obj.coef_"
      ],
      "metadata": {
        "id": "vSwdebdKbg0W"
      },
      "execution_count": 8,
      "outputs": []
    },
    {
      "cell_type": "code",
      "source": [
        "# Plot outputs\n",
        "\n",
        "xrange = [0, 15]\n",
        "yrange = [0, 15]\n",
        "step = 0.1\n",
        "x = np.arange(xrange[0], xrange[1], step)\n",
        "y = np.arange(yrange[0], yrange[1], step)\n",
        "xx, yy = np.meshgrid(x, y)\n",
        "z = - scipy.special.logit(obj.predict_proba(np.c_[xx.reshape([-1]), yy.reshape([-1])])[:, 0].reshape(xx.shape))\n",
        "plt.contourf(xx, yy, z, cmap='bwr', vmin=-20.0, vmax=20.0, levels=200)\n",
        "\n",
        "X_new_neg = X_testing[y_true==-1, :]\n",
        "X_new_pos = X_testing[y_true==1, :]\n",
        "X_new_zero = X_testing[y_true==0, :]\n",
        "plt.scatter(X_new_neg[:, 0], X_new_neg[:, 1],  color='blue', label='y_true (y=-1)')\n",
        "plt.scatter(X_new_pos[:, 0], X_new_pos[:, 1],  color='red', label='y_true (y=1)')\n",
        "plt.scatter(X_new_zero[:, 0], X_new_zero[:, 1],  color='yellow', label='y_true (y=0)')\n",
        "\n",
        "\n",
        "plt.xlim(xrange)\n",
        "plt.ylim(yrange)\n",
        "\n",
        "plt.xlabel(dataset['feature_names'][0])\n",
        "plt.ylabel(dataset['feature_names'][1])\n",
        "\n",
        "plt.legend()\n",
        "\n",
        "plt.show()"
      ],
      "metadata": {
        "colab": {
          "base_uri": "https://localhost:8080/",
          "height": 285
        },
        "id": "mzuJQevSbl2Z",
        "outputId": "93b9244d-cd44-4de6-c9fa-760e8ce9293e"
      },
      "execution_count": 9,
      "outputs": [
        {
          "output_type": "display_data",
          "data": {
            "image/png": "[encoded data removed]",
            "text/plain": [
              "<Figure size 432x288 with 1 Axes>"
            ]
          },
          "metadata": {}
        }
      ]
    },
    {
      "cell_type": "code",
      "source": [
        "# The accuracy score: 1 for perfect prediction\n",
        "print('Accuracy: {:.4f}'.format(sklearn.metrics.accuracy_score(y_true, y_pred)))\n",
        "# Confusion matrix\n",
        "print('Confusion matrix: ', sklearn.metrics.confusion_matrix(y_true, y_pred, normalize='all'))\n",
        "# Visualize the confusion matrix\n",
        "#sklearn.metrics.ConfusionMatrixDisplay(sklearn.metrics.confusion_matrix(y_true, y_pred, normalize='all'), ['benign', 'malignant'])\n",
        "#plt.grid(False)\n",
        "# The classification report, which contains accuracy, precision, recall, F1 score\n",
        "print(sklearn.metrics.classification_report(y_true, y_pred))"
      ],
      "metadata": {
        "colab": {
          "base_uri": "https://localhost:8080/"
        },
        "id": "_muU6WtXdF5B",
        "outputId": "f797ef71-ad19-4436-958c-d08a1fbd6ad4"
      },
      "execution_count": 10,
      "outputs": [
        {
          "output_type": "stream",
          "name": "stdout",
          "text": [
            "Accuracy: 0.7949\n",
            "Confusion matrix:  [[0.16666667 0.03846154 0.02564103]\n",
            " [0.02564103 0.34615385 0.05128205]\n",
            " [0.06410256 0.         0.28205128]]\n",
            "              precision    recall  f1-score   support\n",
            "\n",
            "          -1       0.65      0.72      0.68        18\n",
            "           0       0.90      0.82      0.86        33\n",
            "           1       0.79      0.81      0.80        27\n",
            "\n",
            "    accuracy                           0.79        78\n",
            "   macro avg       0.78      0.79      0.78        78\n",
            "weighted avg       0.80      0.79      0.80        78\n",
            "\n"
          ]
        }
      ]
    },
    {
      "cell_type": "code",
      "source": [
        "import sklearn.svm \n",
        "# Create support vector classifier object\n",
        "obj = sklearn.svm.SVC()\n",
        "\n",
        "# Train the model using the training sets\n",
        "obj.fit(X_training, y_training)\n",
        "\n",
        "# Make predictions using the testing set\n",
        "y_pred = obj.predict(X_testing)"
      ],
      "metadata": {
        "id": "96DU2n2RdWBT"
      },
      "execution_count": 11,
      "outputs": []
    },
    {
      "cell_type": "code",
      "source": [
        "# Plot outputs\n",
        "\n",
        "xrange = [0, 15]\n",
        "yrange = [0, 15]\n",
        "step = 0.1\n",
        "x = np.arange(xrange[0], xrange[1], step)\n",
        "y = np.arange(yrange[0], yrange[1], step)\n",
        "xx, yy = np.meshgrid(x, y)\n",
        "obj.set_params(decision_function_shape='ovo')\n",
        "#z = obj.decision_function(np.c_[xx.reshape([-1]), yy.reshape([-1])]).reshape(xx.shape)\n",
        "#plt.contourf(xx, yy, z, cmap='bwr', vmin=-10.0, vmax=10.0, levels=120)\n",
        "\n",
        "X_new_neg = X_testing[y_true==0, :]\n",
        "X_new_pos = X_testing[y_true==1, :]\n",
        "X_new_zero = X_testing[y_true==-1, :]\n",
        "plt.scatter(X_new_zero[:, 0], X_new_zero[:, 1],  color='yellow', label='y_true (y=0)')\n",
        "plt.scatter(X_new_neg[:, 0], X_new_neg[:, 1],  color='blue', label='y_true (y=-1)')\n",
        "plt.scatter(X_new_pos[:, 0], X_new_pos[:, 1],  color='red', label='y_true (y=1)')\n",
        "\n",
        "plt.xlim(xrange)\n",
        "plt.ylim(yrange)\n",
        "\n",
        "plt.xlabel(dataset['feature_names'][0])\n",
        "plt.ylabel(dataset['feature_names'][1])\n",
        "\n",
        "plt.legend()\n",
        "\n",
        "plt.show()\n"
      ],
      "metadata": {
        "colab": {
          "base_uri": "https://localhost:8080/",
          "height": 285
        },
        "id": "fFmy0ulTdmbX",
        "outputId": "c0c17141-368d-4e52-f441-11189405d4a3"
      },
      "execution_count": 12,
      "outputs": [
        {
          "output_type": "display_data",
          "data": {
            "image/png": "[encoded data removed]",
            "text/plain": [
              "<Figure size 432x288 with 1 Axes>"
            ]
          },
          "metadata": {}
        }
      ]
    },
    {
      "cell_type": "code",
      "source": [
        "# The accuracy score: 1 for perfect prediction\n",
        "print('Accuracy: {:.4f}'.format(sklearn.metrics.accuracy_score(y_true, y_pred)))\n",
        "# Confusion matrix\n",
        "print('Confusion matrix: ', sklearn.metrics.confusion_matrix(y_true, y_pred, normalize='all'))\n",
        "# Visualize the confusion matrix\n",
        "#sklearn.metrics.ConfusionMatrixDisplay(sklearn.metrics.confusion_matrix(y_true, y_pred, normalize='all'), ['benign', 'malignant']).plot(cmap=plt.cm.Blues)\n",
        "#plt.grid(False)\n",
        "# The classification report, which contains accuracy, precision, recall, F1 score\n",
        "print(sklearn.metrics.classification_report(y_true, y_pred))"
      ],
      "metadata": {
        "colab": {
          "base_uri": "https://localhost:8080/"
        },
        "id": "VaBYRQP7i7RH",
        "outputId": "6f3a6438-d3b2-4ff4-cb5c-5750a84a63e7"
      },
      "execution_count": 13,
      "outputs": [
        {
          "output_type": "stream",
          "name": "stdout",
          "text": [
            "Accuracy: 0.8333\n",
            "Confusion matrix:  [[0.16666667 0.03846154 0.02564103]\n",
            " [0.02564103 0.37179487 0.02564103]\n",
            " [0.05128205 0.         0.29487179]]\n",
            "              precision    recall  f1-score   support\n",
            "\n",
            "          -1       0.68      0.72      0.70        18\n",
            "           0       0.91      0.88      0.89        33\n",
            "           1       0.85      0.85      0.85        27\n",
            "\n",
            "    accuracy                           0.83        78\n",
            "   macro avg       0.81      0.82      0.82        78\n",
            "weighted avg       0.84      0.83      0.83        78\n",
            "\n"
          ]
        }
      ]
    },
    {
      "cell_type": "code",
      "source": [
        "#from sklearn.neighbors import KNeighborsClassifier\n",
        "#logreg = KNeighborsClassifier(n_neighbors=4)\n",
        "#logreg.fit(X_train, y_train)\n",
        "#logreg.score(X_test, y_test)\n",
        "\n",
        "from sklearn.neighbors import KNeighborsClassifier\n",
        "# Create support vector classifier object\n",
        "obj = KNeighborsClassifier(n_neighbors=4)\n",
        "\n",
        "# Train the model using the training sets\n",
        "obj.fit(X_training, y_training)\n",
        "\n",
        "# Make predictions using the testing set\n",
        "y_pred = obj.predict(X_testing)\n",
        "\n"
      ],
      "metadata": {
        "id": "-NR9jl4yl49D"
      },
      "execution_count": 14,
      "outputs": []
    },
    {
      "cell_type": "code",
      "source": [
        "# The accuracy score: 1 for perfect prediction\n",
        "print('Accuracy: {:.4f}'.format(sklearn.metrics.accuracy_score(y_true, y_pred)))\n",
        "# Confusion matrix\n",
        "print('Confusion matrix: ', sklearn.metrics.confusion_matrix(y_true, y_pred, normalize='all'))\n",
        "# Visualize the confusion matrix\n",
        "#sklearn.metrics.ConfusionMatrixDisplay(sklearn.metrics.confusion_matrix(y_true, y_pred, normalize='all'), ['benign', 'malignant']).plot(cmap=plt.cm.Blues)\n",
        "#plt.grid(False)\n",
        "# The classification report, which contains accuracy, precision, recall, F1 score\n",
        "print(sklearn.metrics.classification_report(y_true, y_pred))"
      ],
      "metadata": {
        "colab": {
          "base_uri": "https://localhost:8080/"
        },
        "id": "fHR1DCW3maKf",
        "outputId": "57a6d3c9-63f7-4c67-aff1-85c207fbb90b"
      },
      "execution_count": 15,
      "outputs": [
        {
          "output_type": "stream",
          "name": "stdout",
          "text": [
            "Accuracy: 0.7949\n",
            "Confusion matrix:  [[0.17948718 0.02564103 0.02564103]\n",
            " [0.03846154 0.33333333 0.05128205]\n",
            " [0.06410256 0.         0.28205128]]\n",
            "              precision    recall  f1-score   support\n",
            "\n",
            "          -1       0.64      0.78      0.70        18\n",
            "           0       0.93      0.79      0.85        33\n",
            "           1       0.79      0.81      0.80        27\n",
            "\n",
            "    accuracy                           0.79        78\n",
            "   macro avg       0.78      0.79      0.78        78\n",
            "weighted avg       0.81      0.79      0.80        78\n",
            "\n"
          ]
        }
      ]
    }
  ]
}